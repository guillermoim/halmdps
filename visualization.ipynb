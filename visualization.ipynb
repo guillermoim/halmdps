{
 "cells": [
  {
   "cell_type": "code",
   "execution_count": 42,
   "id": "2db4d06e-936e-42ac-b3a5-011b1284cc5c",
   "metadata": {},
   "outputs": [],
   "source": [
    "import numpy as np\n",
    "import matplotlib as plt\n",
    "import wandb \n",
    "import pandas as pd"
   ]
  },
  {
   "cell_type": "code",
   "execution_count": 43,
   "id": "34ef20f4-b764-4f9a-b445-8e6858091cd4",
   "metadata": {},
   "outputs": [],
   "source": [
    "api = wandb.Api()\n",
    "runs = api.runs(path=\"upf-ai-ml/halmdps\", filters={\"display_name\":\"vital-jazz-745\"})\n",
    "\n",
    "for run in runs:\n",
    "    artifacts = run.logged_artifacts()\n",
    "    artifacts = [artifact for artifact in artifacts]"
   ]
  },
  {
   "cell_type": "code",
   "execution_count": 44,
   "id": "778570d2-8cfb-445b-ab57-08497bbc258e",
   "metadata": {},
   "outputs": [
    {
     "name": "stderr",
     "output_type": "stream",
     "text": [
      "\u001b[34m\u001b[1mwandb\u001b[0m:   1 of 1 files downloaded.  \n"
     ]
    },
    {
     "data": {
      "text/plain": [
       "'/home/guillermo/Desktop/projects/halmdps/artifacts/value_functions:v1'"
      ]
     },
     "execution_count": 44,
     "metadata": {},
     "output_type": "execute_result"
    }
   ],
   "source": [
    "artifacts[0].download()"
   ]
  },
  {
   "cell_type": "code",
   "execution_count": 45,
   "id": "b3df2fe8-8370-4325-845f-5bf536d221a8",
   "metadata": {},
   "outputs": [],
   "source": [
    "import json\n",
    "\n",
    "with open('./artifacts/value_functions:v1/value_functions_table.table.json') as json_data:\n",
    "    data = json.load(json_data)[\"data\"]\n",
    "    data = np.asarray(data)\n",
    "    df = pd.DataFrame({\"z\":data[:, 0] , \"z_opt\":data[:, 1]})\n",
    "    z, z_opt = df.z.to_numpy(), df.z_opt.to_numpy()"
   ]
  },
  {
   "cell_type": "code",
   "execution_count": 51,
   "id": "6537bd93-bf52-440c-86f5-b9dd646b3ce8",
   "metadata": {},
   "outputs": [
    {
     "data": {
      "text/plain": [
       "(619, 824)"
      ]
     },
     "execution_count": 51,
     "metadata": {},
     "output_type": "execute_result"
    }
   ],
   "source": [
    " z.argmax(), z_opt.argmax()"
   ]
  },
  {
   "cell_type": "code",
   "execution_count": 54,
   "id": "12736982-7485-4e68-8a49-108daeaf8e6c",
   "metadata": {},
   "outputs": [
    {
     "data": {
      "text/plain": [
       "array([0., 0., 0., 0., 0., 0., 0., 0., 1., 0., 1., 0., 0., 0., 0., 0., 0.,\n",
       "       1.])"
      ]
     },
     "execution_count": 54,
     "metadata": {},
     "output_type": "execute_result"
    }
   ],
   "source": [
    "z_opt[-18:]"
   ]
  },
  {
   "cell_type": "code",
   "execution_count": 55,
   "id": "91a269e2-9be5-4545-8c56-220991bc7d00",
   "metadata": {},
   "outputs": [
    {
     "data": {
      "text/plain": [
       "array([0.       , 0.       , 0.       , 0.       , 0.       , 0.       ,\n",
       "       0.       , 0.       , 2.8046875, 0.       , 2.8046875, 0.       ,\n",
       "       0.       , 0.       , 0.       , 0.       , 0.       , 2.8046875])"
      ]
     },
     "execution_count": 55,
     "metadata": {},
     "output_type": "execute_result"
    }
   ],
   "source": [
    "z[-18:]"
   ]
  },
  {
   "cell_type": "code",
   "execution_count": null,
   "id": "65af52b7-0424-4f3b-bdd9-a96fe900db8a",
   "metadata": {},
   "outputs": [],
   "source": []
  }
 ],
 "metadata": {
  "kernelspec": {
   "display_name": "Python 3 (ipykernel)",
   "language": "python",
   "name": "python3"
  },
  "language_info": {
   "codemirror_mode": {
    "name": "ipython",
    "version": 3
   },
   "file_extension": ".py",
   "mimetype": "text/x-python",
   "name": "python",
   "nbconvert_exporter": "python",
   "pygments_lexer": "ipython3",
   "version": "3.8.1"
  }
 },
 "nbformat": 4,
 "nbformat_minor": 5
}
