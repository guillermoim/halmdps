{
 "cells": [
  {
   "cell_type": "code",
   "execution_count": 19,
   "id": "2db4d06e-936e-42ac-b3a5-011b1284cc5c",
   "metadata": {},
   "outputs": [],
   "source": [
    "import numpy as np\n",
    "import matplotlib as plt\n",
    "import wandb \n",
    "import pandas as pd"
   ]
  },
  {
   "cell_type": "code",
   "execution_count": 41,
   "id": "34ef20f4-b764-4f9a-b445-8e6858091cd4",
   "metadata": {},
   "outputs": [
    {
     "ename": "TypeError",
     "evalue": "'Run' object is not subscriptable",
     "output_type": "error",
     "traceback": [
      "\u001b[0;31m---------------------------------------------------------------------------\u001b[0m",
      "\u001b[0;31mTypeError\u001b[0m                                 Traceback (most recent call last)",
      "Cell \u001b[0;32mIn[41], line 5\u001b[0m\n\u001b[1;32m      2\u001b[0m runs \u001b[38;5;241m=\u001b[39m api\u001b[38;5;241m.\u001b[39mruns(path\u001b[38;5;241m=\u001b[39m\u001b[38;5;124m\"\u001b[39m\u001b[38;5;124mupf-ai-ml/halmdps\u001b[39m\u001b[38;5;124m\"\u001b[39m, filters\u001b[38;5;241m=\u001b[39m{\u001b[38;5;124m\"\u001b[39m\u001b[38;5;124mdisplay_name\u001b[39m\u001b[38;5;124m\"\u001b[39m:\u001b[38;5;124m\"\u001b[39m\u001b[38;5;124mvital-jazz-745\u001b[39m\u001b[38;5;124m\"\u001b[39m})\n\u001b[1;32m      4\u001b[0m \u001b[38;5;28;01mfor\u001b[39;00m run \u001b[38;5;129;01min\u001b[39;00m runs:\n\u001b[0;32m----> 5\u001b[0m     \u001b[38;5;28mprint\u001b[39m(\u001b[43mrun\u001b[49m\u001b[43m[\u001b[49m\u001b[38;5;124;43m\"\u001b[39;49m\u001b[38;5;124;43mproject\u001b[39;49m\u001b[38;5;124;43m\"\u001b[39;49m\u001b[43m]\u001b[49m)\n",
      "\u001b[0;31mTypeError\u001b[0m: 'Run' object is not subscriptable"
     ]
    }
   ],
   "source": [
    "api = wandb.Api()\n",
    "runs = api.runs(path=\"upf-ai-ml/halmdps\", filters={\"display_name\":\"vital-jazz-745\"})\n",
    "\n",
    "for run in runs:\n",
    "    print(run[\"\"])"
   ]
  },
  {
   "cell_type": "code",
   "execution_count": 32,
   "id": "53a957fc-90c4-401d-9cc0-e112fcec7923",
   "metadata": {},
   "outputs": [
    {
     "ename": "AttributeError",
     "evalue": "'Artifact' object has no attribute 'use_artifact'",
     "output_type": "error",
     "traceback": [
      "\u001b[0;31m---------------------------------------------------------------------------\u001b[0m",
      "\u001b[0;31mAttributeError\u001b[0m                            Traceback (most recent call last)",
      "Cell \u001b[0;32mIn[32], line 2\u001b[0m\n\u001b[1;32m      1\u001b[0m artifact \u001b[38;5;241m=\u001b[39m wandb\u001b[38;5;241m.\u001b[39mArtifact(\u001b[38;5;124m\"\u001b[39m\u001b[38;5;124mvalue_functions\u001b[39m\u001b[38;5;124m\"\u001b[39m, \u001b[38;5;28mtype\u001b[39m\u001b[38;5;241m=\u001b[39m\u001b[38;5;124m\"\u001b[39m\u001b[38;5;124mmodel\u001b[39m\u001b[38;5;124m\"\u001b[39m)\n\u001b[0;32m----> 2\u001b[0m \u001b[43martifact\u001b[49m\u001b[38;5;241;43m.\u001b[39;49m\u001b[43muse_artifact\u001b[49m(\u001b[38;5;124m\"\u001b[39m\u001b[38;5;124mupf-ai-ml/halmdps/value_functions:v1\u001b[39m\u001b[38;5;124m\"\u001b[39m)\n",
      "\u001b[0;31mAttributeError\u001b[0m: 'Artifact' object has no attribute 'use_artifact'"
     ]
    }
   ],
   "source": [
    "artifact = wandb.Artifact(\"value_functions\", type=\"model\")\n",
    "artifact.use_artifact(\"upf-ai-ml/halmdps/value_functions:v1\")"
   ]
  },
  {
   "cell_type": "code",
   "execution_count": 9,
   "id": "dadcfc1a-82e4-4939-ab3a-1b147dca3d1a",
   "metadata": {},
   "outputs": [],
   "source": [
    "df = pd.read_csv(\"results.csv\")\n",
    "d = eval(df.iloc[0, 1])"
   ]
  },
  {
   "cell_type": "code",
   "execution_count": 18,
   "id": "f2101a55-e806-489e-b44a-86bfcda82f5d",
   "metadata": {},
   "outputs": [
    {
     "ename": "AttributeError",
     "evalue": "'Table' object has no attribute 'display'",
     "output_type": "error",
     "traceback": [
      "\u001b[0;31m---------------------------------------------------------------------------\u001b[0m",
      "\u001b[0;31mAttributeError\u001b[0m                            Traceback (most recent call last)",
      "Cell \u001b[0;32mIn[18], line 3\u001b[0m\n\u001b[1;32m      1\u001b[0m A \u001b[38;5;241m=\u001b[39m np\u001b[38;5;241m.\u001b[39mzeros(\u001b[38;5;241m20\u001b[39m)\n\u001b[1;32m      2\u001b[0m table \u001b[38;5;241m=\u001b[39m wandb\u001b[38;5;241m.\u001b[39mTable(dataframe\u001b[38;5;241m=\u001b[39mpd\u001b[38;5;241m.\u001b[39mDataFrame({\u001b[38;5;124m\"\u001b[39m\u001b[38;5;124mz\u001b[39m\u001b[38;5;124m\"\u001b[39m: A}))\n\u001b[0;32m----> 3\u001b[0m \u001b[43mtable\u001b[49m\u001b[38;5;241;43m.\u001b[39;49m\u001b[43mdisplay\u001b[49m()\n",
      "\u001b[0;31mAttributeError\u001b[0m: 'Table' object has no attribute 'display'"
     ]
    }
   ],
   "source": [
    "A = np.zeros(20)\n",
    "table = wandb.Table(dataframe=pd.DataFrame({\"z\": A}))\n",
    "table.display()"
   ]
  },
  {
   "cell_type": "code",
   "execution_count": null,
   "id": "12736982-7485-4e68-8a49-108daeaf8e6c",
   "metadata": {},
   "outputs": [],
   "source": []
  },
  {
   "cell_type": "code",
   "execution_count": null,
   "id": "91a269e2-9be5-4545-8c56-220991bc7d00",
   "metadata": {},
   "outputs": [],
   "source": []
  },
  {
   "cell_type": "code",
   "execution_count": null,
   "id": "65af52b7-0424-4f3b-bdd9-a96fe900db8a",
   "metadata": {},
   "outputs": [],
   "source": []
  }
 ],
 "metadata": {
  "kernelspec": {
   "display_name": "Python 3 (ipykernel)",
   "language": "python",
   "name": "python3"
  },
  "language_info": {
   "codemirror_mode": {
    "name": "ipython",
    "version": 3
   },
   "file_extension": ".py",
   "mimetype": "text/x-python",
   "name": "python",
   "nbconvert_exporter": "python",
   "pygments_lexer": "ipython3",
   "version": "3.8.1"
  }
 },
 "nbformat": 4,
 "nbformat_minor": 5
}
