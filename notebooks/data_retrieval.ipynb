{
 "cells": [
  {
   "cell_type": "code",
   "execution_count": 1,
   "id": "2db4d06e-936e-42ac-b3a5-011b1284cc5c",
   "metadata": {},
   "outputs": [],
   "source": [
    "import numpy as np\n",
    "import matplotlib as plt\n",
    "import wandb \n",
    "import pandas as pd\n",
    "from pathlib import Path"
   ]
  },
  {
   "cell_type": "code",
   "execution_count": 2,
   "id": "5a39bd9e-2c83-4ac4-97a4-21f3112a1656",
   "metadata": {},
   "outputs": [],
   "source": [
    "api = wandb.Api()"
   ]
  },
  {
   "cell_type": "code",
   "execution_count": 3,
   "id": "cd651bb0-0c88-4a6d-bb9a-234968d211a9",
   "metadata": {},
   "outputs": [],
   "source": [
    "def get_and_save_column(api, group_name, column, k=None):\n",
    "\n",
    "    d = {\"group\": group_name}\n",
    "    if k != None:\n",
    "        d[\"config.k\"] = k\n",
    "    \n",
    "    runs = api.runs(path=\"upf-ai-ml/halmdps\", filters=d)\n",
    "    \n",
    "    df = pd.DataFrame()\n",
    "    \n",
    "    for run in runs:\n",
    "        \n",
    "        if run.state != \"finished\":\n",
    "            continue\n",
    "        \n",
    "        history = run.scan_history()\n",
    "        step = [row[\"step\"] for row in history]\n",
    "        MAE_exit_states = [row[column] for row in history]\n",
    "    \n",
    "        df[\"step\"] = step\n",
    "        df[run.name] = MAE_exit_states\n",
    "\n",
    "    col = column.replace(\"/\", \":\")\n",
    "\n",
    "\n",
    "    fp = Path(f\"../results/series/{group_name}-{col}-k{k}.csv\")\n",
    "    df.to_csv(fp, index=False)\n"
   ]
  },
  {
   "cell_type": "markdown",
   "id": "b686d5ef-db0f-4438-9aac-125281495cf4",
   "metadata": {},
   "source": [
    "## NRoom-v1"
   ]
  },
  {
   "cell_type": "code",
   "execution_count": 4,
   "id": "eec8d8b5-06f0-4f70-b63f-a57c9a10478e",
   "metadata": {},
   "outputs": [],
   "source": [
    "# get_and_save_column(api, \"NRoom-v1-exp-flat\", \"train/MAE_z\")\n",
    "# get_and_save_column(api, \"NRoom-v1-exp-td-flat\", \"train/MAE_z\")\n",
    "# get_and_save_column(api, \"NRoom-v1-log-flat\", \"train/MAE_z\")\n",
    "get_and_save_column(api, \"NRoom-v1-exp-hierarchical\", \"train/MAE_exit_states\", k=1)\n",
    "get_and_save_column(api, \"NRoom-v1-log-hierarchical\", \"train/MAE_exit_states\", k=1)\n",
    "get_and_save_column(api, \"NRoom-v1-exp-hierarchical\", \"train/MAE_subtasks\", k=1)\n",
    "get_and_save_column(api, \"NRoom-v1-log-hierarchical\", \"train/MAE_subtasks\", k=1)\n",
    "get_and_save_column(api, \"NRoom-v1-exp-hierarchical\", \"train/Error_Gamma\", k=1)\n",
    "get_and_save_column(api, \"NRoom-v1-log-hierarchical\", \"train/Error_Gamma\", k=1)\n",
    "\n",
    "\n",
    "get_and_save_column(api, \"NRoom-v1-exp-hierarchical\", \"train/MAE_exit_states\", k=0.1)\n",
    "get_and_save_column(api, \"NRoom-v1-log-hierarchical\", \"train/MAE_exit_states\", k=0.1)\n",
    "get_and_save_column(api, \"NRoom-v1-exp-hierarchical\", \"train/MAE_subtasks\", k=0.1)\n",
    "get_and_save_column(api, \"NRoom-v1-log-hierarchical\", \"train/MAE_subtasks\", k=0.1)\n",
    "get_and_save_column(api, \"NRoom-v1-exp-hierarchical\", \"train/Error_Gamma\", k=0.1)\n",
    "get_and_save_column(api, \"NRoom-v1-log-hierarchical\", \"train/Error_Gamma\", k=0.1)"
   ]
  },
  {
   "cell_type": "markdown",
   "id": "e89ecbab-46ba-43a6-b8ad-9adc9603256a",
   "metadata": {},
   "source": [
    "## NRoom-v2"
   ]
  },
  {
   "cell_type": "code",
   "execution_count": 5,
   "id": "bbd60245-6be4-45a7-b73c-1196f3e4299f",
   "metadata": {},
   "outputs": [],
   "source": [
    "get_and_save_column(api, \"NRoom-v2-exp-hierarchical\", \"train/MAE_exit_states\", k=1)\n",
    "get_and_save_column(api, \"NRoom-v2-log-hierarchical\", \"train/MAE_exit_states\", k=1)\n",
    "get_and_save_column(api, \"NRoom-v2-exp-hierarchical\", \"train/MAE_subtasks\", k=1)\n",
    "get_and_save_column(api, \"NRoom-v2-log-hierarchical\", \"train/MAE_subtasks\", k=1)\n",
    "get_and_save_column(api, \"NRoom-v2-exp-hierarchical\", \"train/Error_Gamma\", k=1)\n",
    "get_and_save_column(api, \"NRoom-v2-log-hierarchical\", \"train/Error_Gamma\", k=1)\n",
    "\n",
    "get_and_save_column(api, \"NRoom-v2-exp-hierarchical\", \"train/MAE_exit_states\", k=0.1)\n",
    "get_and_save_column(api, \"NRoom-v2-log-hierarchical\", \"train/MAE_exit_states\", k=0.1)\n",
    "get_and_save_column(api, \"NRoom-v2-exp-hierarchical\", \"train/MAE_subtasks\", k=0.1)\n",
    "get_and_save_column(api, \"NRoom-v2-log-hierarchical\", \"train/MAE_subtasks\", k=0.1)\n",
    "get_and_save_column(api, \"NRoom-v2-exp-hierarchical\", \"train/Error_Gamma\", k=0.1)\n",
    "get_and_save_column(api, \"NRoom-v2-log-hierarchical\", \"train/Error_Gamma\", k=0.1)"
   ]
  },
  {
   "cell_type": "markdown",
   "id": "cba21927-d49f-476a-847e-3dc782ca619e",
   "metadata": {},
   "source": [
    "## NRoom-v3"
   ]
  },
  {
   "cell_type": "code",
   "execution_count": 6,
   "id": "1c5c1bee-bcfc-42d7-b01d-757d90af0180",
   "metadata": {},
   "outputs": [],
   "source": [
    "# get_and_save_column(api, \"NRoom-v3-exp-flat\", \"train/MAE_z\")\n",
    "# get_and_save_column(api, \"NRoom-v3-exp-td-flat\", \"train/MAE_z\")\n",
    "# get_and_save_column(api, \"NRoom-v3-log-flat\", \"train/MAE_z\")\n",
    "# get_and_save_column(api, \"NRoom-v3-exp-hierarchical\", \"train/MAE_exit_states\")\n",
    "get_and_save_column(api, \"NRoom-v3-exp-hierarchical\", \"train/MAE_exit_states\", k=1)\n",
    "get_and_save_column(api, \"NRoom-v3-log-hierarchical\", \"train/MAE_exit_states\", k=1)\n",
    "get_and_save_column(api, \"NRoom-v3-exp-hierarchical\", \"train/MAE_subtasks\", k=1)\n",
    "get_and_save_column(api, \"NRoom-v3-log-hierarchical\", \"train/MAE_subtasks\", k=1)\n",
    "get_and_save_column(api, \"NRoom-v3-exp-hierarchical\", \"train/Error_Gamma\", k=1)\n",
    "get_and_save_column(api, \"NRoom-v3-log-hierarchical\", \"train/Error_Gamma\", k=1)\n",
    "\n",
    "get_and_save_column(api, \"NRoom-v3-exp-hierarchical\", \"train/MAE_exit_states\", k=0.1)\n",
    "get_and_save_column(api, \"NRoom-v3-log-hierarchical\", \"train/MAE_exit_states\", k=0.1)\n",
    "get_and_save_column(api, \"NRoom-v3-exp-hierarchical\", \"train/MAE_subtasks\", k=0.1)\n",
    "get_and_save_column(api, \"NRoom-v3-log-hierarchical\", \"train/MAE_subtasks\", k=0.1)\n",
    "get_and_save_column(api, \"NRoom-v3-exp-hierarchical\", \"train/Error_Gamma\", k=0.1)\n",
    "get_and_save_column(api, \"NRoom-v3-log-hierarchical\", \"train/Error_Gamma\", k=0.1)"
   ]
  },
  {
   "cell_type": "markdown",
   "id": "4da8094d-5566-4f4d-83d0-23b70049f119",
   "metadata": {},
   "source": [
    "## Taxi-v1"
   ]
  },
  {
   "cell_type": "code",
   "execution_count": 7,
   "id": "bdd07daa-bb6c-46ed-860d-6012b555498b",
   "metadata": {},
   "outputs": [],
   "source": [
    "# get_and_save_column(api, \"Taxi-v1-exp-flat\", \"train/MAE_z\")\n",
    "# get_and_save_column(api, \"Taxi-v1-exp-td-flat\", \"train/MAE_z\")\n",
    "# get_and_save_column(api, \"Taxi-v1-log-flat\", \"train/MAE_z\")\n",
    "get_and_save_column(api, \"Taxi-v1-exp-hierarchical\", \"train/MAE_exit_states\", k=1)\n",
    "get_and_save_column(api, \"Taxi-v1-log-hierarchical\", \"train/MAE_exit_states\", k=1)\n",
    "get_and_save_column(api, \"Taxi-v1-exp-hierarchical\", \"train/MAE_subtasks\", k=1)\n",
    "get_and_save_column(api, \"Taxi-v1-log-hierarchical\", \"train/MAE_subtasks\", k=1)\n",
    "get_and_save_column(api, \"Taxi-v1-exp-hierarchical\", \"train/Error_Gamma\", k=1)\n",
    "get_and_save_column(api, \"Taxi-v1-log-hierarchical\", \"train/Error_Gamma\", k=1)\n",
    "\n",
    "get_and_save_column(api, \"Taxi-v1-exp-hierarchical\", \"train/MAE_exit_states\", k=0.1)\n",
    "get_and_save_column(api, \"Taxi-v1-log-hierarchical\", \"train/MAE_exit_states\", k=0.1)\n",
    "get_and_save_column(api, \"Taxi-v1-exp-hierarchical\", \"train/MAE_subtasks\", k=0.1)\n",
    "get_and_save_column(api, \"Taxi-v1-log-hierarchical\", \"train/MAE_subtasks\", k=0.1)\n",
    "get_and_save_column(api, \"Taxi-v1-exp-hierarchical\", \"train/Error_Gamma\", k=0.1)\n",
    "get_and_save_column(api, \"Taxi-v1-log-hierarchical\", \"train/Error_Gamma\", k=0.1)"
   ]
  },
  {
   "cell_type": "markdown",
   "id": "7033c09e-b018-47ba-b095-ba2fe16ffd65",
   "metadata": {},
   "source": [
    "## Taxi-v2"
   ]
  },
  {
   "cell_type": "code",
   "execution_count": 8,
   "id": "8b103ecd-ed22-4935-80d3-6da34e4c5841",
   "metadata": {},
   "outputs": [],
   "source": [
    "# get_and_save_column(api, \"Taxi-v2-exp-flat\", \"train/MAE_z\")\n",
    "# get_and_save_column(api, \"Taxi-v2-exp-td-flat\", \"train/MAE_z\")\n",
    "# get_and_save_column(api, \"Taxi-v2-log-flat\", \"train/MAE_z\")\n",
    "get_and_save_column(api, \"Taxi-v2-exp-hierarchical\", \"train/MAE_exit_states\", k=1)\n",
    "get_and_save_column(api, \"Taxi-v2-log-hierarchical\", \"train/MAE_exit_states\", k=1)\n",
    "get_and_save_column(api, \"Taxi-v2-exp-hierarchical\", \"train/MAE_subtasks\", k=1)\n",
    "get_and_save_column(api, \"Taxi-v2-log-hierarchical\", \"train/MAE_subtasks\", k=1)\n",
    "get_and_save_column(api, \"Taxi-v2-exp-hierarchical\", \"train/Error_Gamma\", k=1)\n",
    "get_and_save_column(api, \"Taxi-v2-log-hierarchical\", \"train/Error_Gamma\", k=1)\n",
    "\n",
    "get_and_save_column(api, \"Taxi-v2-exp-hierarchical\", \"train/MAE_exit_states\", k=0.1)\n",
    "get_and_save_column(api, \"Taxi-v2-log-hierarchical\", \"train/MAE_exit_states\", k=0.1)\n",
    "get_and_save_column(api, \"Taxi-v2-exp-hierarchical\", \"train/MAE_subtasks\", k=0.1)\n",
    "get_and_save_column(api, \"Taxi-v2-log-hierarchical\", \"train/MAE_subtasks\", k=0.1)\n",
    "get_and_save_column(api, \"Taxi-v2-exp-hierarchical\", \"train/Error_Gamma\", k=0.1)\n",
    "get_and_save_column(api, \"Taxi-v2-log-hierarchical\", \"train/Error_Gamma\", k=0.1)"
   ]
  },
  {
   "cell_type": "markdown",
   "id": "0932ade8-7e5d-4051-b0d8-8ce20b66d060",
   "metadata": {},
   "source": [
    "## Taxi-v3"
   ]
  },
  {
   "cell_type": "code",
   "execution_count": 13,
   "id": "4815ebfb-228e-4327-ab3a-be22cb9434fe",
   "metadata": {},
   "outputs": [
    {
     "ename": "ValueError",
     "evalue": "Length of values (0) does not match length of index (10000)",
     "output_type": "error",
     "traceback": [
      "\u001b[0;31m---------------------------------------------------------------------------\u001b[0m",
      "\u001b[0;31mValueError\u001b[0m                                Traceback (most recent call last)",
      "Cell \u001b[0;32mIn[13], line 2\u001b[0m\n\u001b[1;32m      1\u001b[0m \u001b[38;5;66;03m# get_and_save_column(api, \"Taxi-v3-exp-hierarchical\", \"train/MAE_exit_states\", k=1)\u001b[39;00m\n\u001b[0;32m----> 2\u001b[0m \u001b[43mget_and_save_column\u001b[49m\u001b[43m(\u001b[49m\u001b[43mapi\u001b[49m\u001b[43m,\u001b[49m\u001b[43m \u001b[49m\u001b[38;5;124;43m\"\u001b[39;49m\u001b[38;5;124;43mTaxi-v3-log-hierarchical\u001b[39;49m\u001b[38;5;124;43m\"\u001b[39;49m\u001b[43m,\u001b[49m\u001b[43m \u001b[49m\u001b[38;5;124;43m\"\u001b[39;49m\u001b[38;5;124;43mtrain/MAE_exit_states\u001b[39;49m\u001b[38;5;124;43m\"\u001b[39;49m\u001b[43m,\u001b[49m\u001b[43m \u001b[49m\u001b[43mk\u001b[49m\u001b[38;5;241;43m=\u001b[39;49m\u001b[38;5;241;43m1\u001b[39;49m\u001b[43m)\u001b[49m\n\u001b[1;32m      3\u001b[0m \u001b[38;5;66;03m# get_and_save_column(api, \"Taxi-v3-exp-hierarchical\", \"train/MAE_subtasks\", k=1)\u001b[39;00m\n\u001b[1;32m      4\u001b[0m \u001b[38;5;66;03m# get_and_save_column(api, \"Taxi-v3-log-hierarchical\", \"train/MAE_subtasks\", k=1)\u001b[39;00m\n\u001b[1;32m      5\u001b[0m \u001b[38;5;66;03m# get_and_save_column(api, \"Taxi-v3-exp-hierarchical\", \"train/Error_Gamma\", k=1)\u001b[39;00m\n\u001b[1;32m      6\u001b[0m \u001b[38;5;66;03m# get_and_save_column(api, \"Taxi-v3-log-hierarchical\", \"train/Error_Gamma\", k=1)\u001b[39;00m\n\u001b[1;32m      7\u001b[0m \n\u001b[1;32m      8\u001b[0m \u001b[38;5;66;03m# get_and_save_column(api, \"Taxi-v3-exp-hierarchical\", \"train/MAE_exit_states\", k=0.1)\u001b[39;00m\n\u001b[1;32m      9\u001b[0m get_and_save_column(api, \u001b[38;5;124m\"\u001b[39m\u001b[38;5;124mTaxi-v3-log-hierarchical\u001b[39m\u001b[38;5;124m\"\u001b[39m, \u001b[38;5;124m\"\u001b[39m\u001b[38;5;124mtrain/MAE_exit_states\u001b[39m\u001b[38;5;124m\"\u001b[39m, k\u001b[38;5;241m=\u001b[39m\u001b[38;5;241m0.1\u001b[39m)\n",
      "Cell \u001b[0;32mIn[3], line 20\u001b[0m, in \u001b[0;36mget_and_save_column\u001b[0;34m(api, group_name, column, k)\u001b[0m\n\u001b[1;32m     17\u001b[0m     step \u001b[38;5;241m=\u001b[39m [row[\u001b[38;5;124m\"\u001b[39m\u001b[38;5;124mstep\u001b[39m\u001b[38;5;124m\"\u001b[39m] \u001b[38;5;28;01mfor\u001b[39;00m row \u001b[38;5;129;01min\u001b[39;00m history]\n\u001b[1;32m     18\u001b[0m     MAE_exit_states \u001b[38;5;241m=\u001b[39m [row[column] \u001b[38;5;28;01mfor\u001b[39;00m row \u001b[38;5;129;01min\u001b[39;00m history]\n\u001b[0;32m---> 20\u001b[0m     \u001b[43mdf\u001b[49m\u001b[43m[\u001b[49m\u001b[38;5;124;43m\"\u001b[39;49m\u001b[38;5;124;43mstep\u001b[39;49m\u001b[38;5;124;43m\"\u001b[39;49m\u001b[43m]\u001b[49m \u001b[38;5;241m=\u001b[39m step\n\u001b[1;32m     21\u001b[0m     df[run\u001b[38;5;241m.\u001b[39mname] \u001b[38;5;241m=\u001b[39m MAE_exit_states\n\u001b[1;32m     23\u001b[0m col \u001b[38;5;241m=\u001b[39m column\u001b[38;5;241m.\u001b[39mreplace(\u001b[38;5;124m\"\u001b[39m\u001b[38;5;124m/\u001b[39m\u001b[38;5;124m\"\u001b[39m, \u001b[38;5;124m\"\u001b[39m\u001b[38;5;124m:\u001b[39m\u001b[38;5;124m\"\u001b[39m)\n",
      "File \u001b[0;32m~/.pyenv/versions/3.10.1/envs/sfols-env/lib/python3.10/site-packages/pandas/core/frame.py:3960\u001b[0m, in \u001b[0;36mDataFrame.__setitem__\u001b[0;34m(self, key, value)\u001b[0m\n\u001b[1;32m   3957\u001b[0m     \u001b[38;5;28mself\u001b[39m\u001b[38;5;241m.\u001b[39m_setitem_array([key], value)\n\u001b[1;32m   3958\u001b[0m \u001b[38;5;28;01melse\u001b[39;00m:\n\u001b[1;32m   3959\u001b[0m     \u001b[38;5;66;03m# set column\u001b[39;00m\n\u001b[0;32m-> 3960\u001b[0m     \u001b[38;5;28;43mself\u001b[39;49m\u001b[38;5;241;43m.\u001b[39;49m\u001b[43m_set_item\u001b[49m\u001b[43m(\u001b[49m\u001b[43mkey\u001b[49m\u001b[43m,\u001b[49m\u001b[43m \u001b[49m\u001b[43mvalue\u001b[49m\u001b[43m)\u001b[49m\n",
      "File \u001b[0;32m~/.pyenv/versions/3.10.1/envs/sfols-env/lib/python3.10/site-packages/pandas/core/frame.py:4153\u001b[0m, in \u001b[0;36mDataFrame._set_item\u001b[0;34m(self, key, value)\u001b[0m\n\u001b[1;32m   4143\u001b[0m \u001b[38;5;28;01mdef\u001b[39;00m \u001b[38;5;21m_set_item\u001b[39m(\u001b[38;5;28mself\u001b[39m, key, value) \u001b[38;5;241m-\u001b[39m\u001b[38;5;241m>\u001b[39m \u001b[38;5;28;01mNone\u001b[39;00m:\n\u001b[1;32m   4144\u001b[0m \u001b[38;5;250m    \u001b[39m\u001b[38;5;124;03m\"\"\"\u001b[39;00m\n\u001b[1;32m   4145\u001b[0m \u001b[38;5;124;03m    Add series to DataFrame in specified column.\u001b[39;00m\n\u001b[1;32m   4146\u001b[0m \n\u001b[0;32m   (...)\u001b[0m\n\u001b[1;32m   4151\u001b[0m \u001b[38;5;124;03m    ensure homogeneity.\u001b[39;00m\n\u001b[1;32m   4152\u001b[0m \u001b[38;5;124;03m    \"\"\"\u001b[39;00m\n\u001b[0;32m-> 4153\u001b[0m     value \u001b[38;5;241m=\u001b[39m \u001b[38;5;28;43mself\u001b[39;49m\u001b[38;5;241;43m.\u001b[39;49m\u001b[43m_sanitize_column\u001b[49m\u001b[43m(\u001b[49m\u001b[43mvalue\u001b[49m\u001b[43m)\u001b[49m\n\u001b[1;32m   4155\u001b[0m     \u001b[38;5;28;01mif\u001b[39;00m (\n\u001b[1;32m   4156\u001b[0m         key \u001b[38;5;129;01min\u001b[39;00m \u001b[38;5;28mself\u001b[39m\u001b[38;5;241m.\u001b[39mcolumns\n\u001b[1;32m   4157\u001b[0m         \u001b[38;5;129;01mand\u001b[39;00m value\u001b[38;5;241m.\u001b[39mndim \u001b[38;5;241m==\u001b[39m \u001b[38;5;241m1\u001b[39m\n\u001b[1;32m   4158\u001b[0m         \u001b[38;5;129;01mand\u001b[39;00m \u001b[38;5;129;01mnot\u001b[39;00m is_extension_array_dtype(value)\n\u001b[1;32m   4159\u001b[0m     ):\n\u001b[1;32m   4160\u001b[0m         \u001b[38;5;66;03m# broadcast across multiple columns if necessary\u001b[39;00m\n\u001b[1;32m   4161\u001b[0m         \u001b[38;5;28;01mif\u001b[39;00m \u001b[38;5;129;01mnot\u001b[39;00m \u001b[38;5;28mself\u001b[39m\u001b[38;5;241m.\u001b[39mcolumns\u001b[38;5;241m.\u001b[39mis_unique \u001b[38;5;129;01mor\u001b[39;00m \u001b[38;5;28misinstance\u001b[39m(\u001b[38;5;28mself\u001b[39m\u001b[38;5;241m.\u001b[39mcolumns, MultiIndex):\n",
      "File \u001b[0;32m~/.pyenv/versions/3.10.1/envs/sfols-env/lib/python3.10/site-packages/pandas/core/frame.py:4880\u001b[0m, in \u001b[0;36mDataFrame._sanitize_column\u001b[0;34m(self, value)\u001b[0m\n\u001b[1;32m   4877\u001b[0m     \u001b[38;5;28;01mreturn\u001b[39;00m _reindex_for_setitem(Series(value), \u001b[38;5;28mself\u001b[39m\u001b[38;5;241m.\u001b[39mindex)\n\u001b[1;32m   4879\u001b[0m \u001b[38;5;28;01mif\u001b[39;00m is_list_like(value):\n\u001b[0;32m-> 4880\u001b[0m     \u001b[43mcom\u001b[49m\u001b[38;5;241;43m.\u001b[39;49m\u001b[43mrequire_length_match\u001b[49m\u001b[43m(\u001b[49m\u001b[43mvalue\u001b[49m\u001b[43m,\u001b[49m\u001b[43m \u001b[49m\u001b[38;5;28;43mself\u001b[39;49m\u001b[38;5;241;43m.\u001b[39;49m\u001b[43mindex\u001b[49m\u001b[43m)\u001b[49m\n\u001b[1;32m   4881\u001b[0m \u001b[38;5;28;01mreturn\u001b[39;00m sanitize_array(value, \u001b[38;5;28mself\u001b[39m\u001b[38;5;241m.\u001b[39mindex, copy\u001b[38;5;241m=\u001b[39m\u001b[38;5;28;01mTrue\u001b[39;00m, allow_2d\u001b[38;5;241m=\u001b[39m\u001b[38;5;28;01mTrue\u001b[39;00m)\n",
      "File \u001b[0;32m~/.pyenv/versions/3.10.1/envs/sfols-env/lib/python3.10/site-packages/pandas/core/common.py:576\u001b[0m, in \u001b[0;36mrequire_length_match\u001b[0;34m(data, index)\u001b[0m\n\u001b[1;32m    572\u001b[0m \u001b[38;5;250m\u001b[39m\u001b[38;5;124;03m\"\"\"\u001b[39;00m\n\u001b[1;32m    573\u001b[0m \u001b[38;5;124;03mCheck the length of data matches the length of the index.\u001b[39;00m\n\u001b[1;32m    574\u001b[0m \u001b[38;5;124;03m\"\"\"\u001b[39;00m\n\u001b[1;32m    575\u001b[0m \u001b[38;5;28;01mif\u001b[39;00m \u001b[38;5;28mlen\u001b[39m(data) \u001b[38;5;241m!=\u001b[39m \u001b[38;5;28mlen\u001b[39m(index):\n\u001b[0;32m--> 576\u001b[0m     \u001b[38;5;28;01mraise\u001b[39;00m \u001b[38;5;167;01mValueError\u001b[39;00m(\n\u001b[1;32m    577\u001b[0m         \u001b[38;5;124m\"\u001b[39m\u001b[38;5;124mLength of values \u001b[39m\u001b[38;5;124m\"\u001b[39m\n\u001b[1;32m    578\u001b[0m         \u001b[38;5;124mf\u001b[39m\u001b[38;5;124m\"\u001b[39m\u001b[38;5;124m(\u001b[39m\u001b[38;5;132;01m{\u001b[39;00m\u001b[38;5;28mlen\u001b[39m(data)\u001b[38;5;132;01m}\u001b[39;00m\u001b[38;5;124m) \u001b[39m\u001b[38;5;124m\"\u001b[39m\n\u001b[1;32m    579\u001b[0m         \u001b[38;5;124m\"\u001b[39m\u001b[38;5;124mdoes not match length of index \u001b[39m\u001b[38;5;124m\"\u001b[39m\n\u001b[1;32m    580\u001b[0m         \u001b[38;5;124mf\u001b[39m\u001b[38;5;124m\"\u001b[39m\u001b[38;5;124m(\u001b[39m\u001b[38;5;132;01m{\u001b[39;00m\u001b[38;5;28mlen\u001b[39m(index)\u001b[38;5;132;01m}\u001b[39;00m\u001b[38;5;124m)\u001b[39m\u001b[38;5;124m\"\u001b[39m\n\u001b[1;32m    581\u001b[0m     )\n",
      "\u001b[0;31mValueError\u001b[0m: Length of values (0) does not match length of index (10000)"
     ]
    }
   ],
   "source": [
    "# get_and_save_column(api, \"Taxi-v3-exp-hierarchical\", \"train/MAE_exit_states\", k=1)\n",
    "get_and_save_column(api, \"Taxi-v3-log-hierarchical\", \"train/MAE_exit_states\", k=1)\n",
    "# get_and_save_column(api, \"Taxi-v3-exp-hierarchical\", \"train/MAE_subtasks\", k=1)\n",
    "# get_and_save_column(api, \"Taxi-v3-log-hierarchical\", \"train/MAE_subtasks\", k=1)\n",
    "# get_and_save_column(api, \"Taxi-v3-exp-hierarchical\", \"train/Error_Gamma\", k=1)\n",
    "# get_and_save_column(api, \"Taxi-v3-log-hierarchical\", \"train/Error_Gamma\", k=1)\n",
    "\n",
    "# get_and_save_column(api, \"Taxi-v3-exp-hierarchical\", \"train/MAE_exit_states\", k=0.1)\n",
    "get_and_save_column(api, \"Taxi-v3-log-hierarchical\", \"train/MAE_exit_states\", k=0.1)\n",
    "# get_and_save_column(api, \"Taxi-v3-exp-hierarchical\", \"train/MAE_subtasks\", k=0.1)\n",
    "get_and_save_column(api, \"Taxi-v3-log-hierarchical\", \"train/MAE_subtasks\", k=0.1)\n",
    "# get_and_save_column(api, \"Taxi-v3-exp-hierarchical\", \"train/Error_Gamma\", k=0.1)\n",
    "get_and_save_column(api, \"Taxi-v3-log-hierarchical\", \"train/Error_Gamma\", k=0.1)"
   ]
  },
  {
   "cell_type": "code",
   "execution_count": null,
   "id": "cb993344-bd13-49e4-8df4-85b50caa8071",
   "metadata": {},
   "outputs": [],
   "source": []
  }
 ],
 "metadata": {
  "kernelspec": {
   "display_name": "Python 3 (ipykernel)",
   "language": "python",
   "name": "python3"
  },
  "language_info": {
   "codemirror_mode": {
    "name": "ipython",
    "version": 3
   },
   "file_extension": ".py",
   "mimetype": "text/x-python",
   "name": "python",
   "nbconvert_exporter": "python",
   "pygments_lexer": "ipython3",
   "version": "3.10.1"
  }
 },
 "nbformat": 4,
 "nbformat_minor": 5
}
