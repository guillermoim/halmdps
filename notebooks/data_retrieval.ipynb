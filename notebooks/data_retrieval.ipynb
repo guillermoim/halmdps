{
 "cells": [
  {
   "cell_type": "code",
   "execution_count": 12,
   "id": "2db4d06e-936e-42ac-b3a5-011b1284cc5c",
   "metadata": {},
   "outputs": [],
   "source": [
    "import numpy as np\n",
    "import matplotlib as plt\n",
    "import wandb \n",
    "import pandas as pd\n",
    "from pathlib import Path"
   ]
  },
  {
   "cell_type": "code",
   "execution_count": 13,
   "id": "5a39bd9e-2c83-4ac4-97a4-21f3112a1656",
   "metadata": {},
   "outputs": [],
   "source": [
    "api = wandb.Api()"
   ]
  },
  {
   "cell_type": "code",
   "execution_count": 3,
   "id": "cd651bb0-0c88-4a6d-bb9a-234968d211a9",
   "metadata": {},
   "outputs": [],
   "source": [
    "def get_and_save_column(api, group_name, column):\n",
    "    \n",
    "    runs = api.runs(path=\"upf-ai-ml/halmdps\", filters={\"group\":group_name})\n",
    "    \n",
    "    df = pd.DataFrame()\n",
    "    \n",
    "    for run in runs:\n",
    "        \n",
    "        if run.state != \"finished\":\n",
    "            continue\n",
    "        \n",
    "        history = run.scan_history()\n",
    "        step = [row[\"step\"] for row in history]\n",
    "        MAE_exit_states = [row[column] for row in history]\n",
    "    \n",
    "        df[\"step\"] = step\n",
    "        df[run.name] = MAE_exit_states\n",
    "\n",
    "    col = column.replace(\"/\", \":\")\n",
    "\n",
    "\n",
    "    fp = Path(f\"../results/series/{group_name}-{col}.csv\")\n",
    "    df.to_csv(fp, index=False)\n"
   ]
  },
  {
   "cell_type": "markdown",
   "id": "b686d5ef-db0f-4438-9aac-125281495cf4",
   "metadata": {},
   "source": [
    "## NRoom-v1"
   ]
  },
  {
   "cell_type": "code",
   "execution_count": 4,
   "id": "eec8d8b5-06f0-4f70-b63f-a57c9a10478e",
   "metadata": {},
   "outputs": [],
   "source": [
    "get_and_save_column(api, \"NRoom-v1-exp-flat\", \"train/MAE_z\")\n",
    "get_and_save_column(api, \"NRoom-v1-exp-td-flat\", \"train/MAE_z\")\n",
    "get_and_save_column(api, \"NRoom-v1-log-flat\", \"train/MAE_z\")\n",
    "get_and_save_column(api, \"NRoom-v1-exp-hierarchical\", \"train/MAE_exit_states\")\n",
    "get_and_save_column(api, \"NRoom-v1-log-hierarchical\", \"train/MAE_exit_states\")"
   ]
  },
  {
   "cell_type": "markdown",
   "id": "e89ecbab-46ba-43a6-b8ad-9adc9603256a",
   "metadata": {},
   "source": [
    "## NRoom-v2"
   ]
  },
  {
   "cell_type": "code",
   "execution_count": 5,
   "id": "bbd60245-6be4-45a7-b73c-1196f3e4299f",
   "metadata": {},
   "outputs": [],
   "source": [
    "get_and_save_column(api, \"NRoom-v2-exp-flat\", \"train/MAE_z\")\n",
    "get_and_save_column(api, \"NRoom-v2-exp-td-flat\", \"train/MAE_z\")\n",
    "get_and_save_column(api, \"NRoom-v2-log-flat\", \"train/MAE_z\")\n",
    "get_and_save_column(api, \"NRoom-v2-exp-hierarchical\", \"train/MAE_exit_states\")\n",
    "get_and_save_column(api, \"NRoom-v2-log-hierarchical\", \"train/MAE_exit_states\")"
   ]
  },
  {
   "cell_type": "markdown",
   "id": "cba21927-d49f-476a-847e-3dc782ca619e",
   "metadata": {},
   "source": [
    "## NRoom-v3"
   ]
  },
  {
   "cell_type": "code",
   "execution_count": 14,
   "id": "1c5c1bee-bcfc-42d7-b01d-757d90af0180",
   "metadata": {},
   "outputs": [],
   "source": [
    "# get_and_save_column(api, \"NRoom-v3-exp-flat\", \"train/MAE_z\")\n",
    "# get_and_save_column(api, \"NRoom-v3-exp-td-flat\", \"train/MAE_z\")\n",
    "# get_and_save_column(api, \"NRoom-v3-log-flat\", \"train/MAE_z\")\n",
    "# get_and_save_column(api, \"NRoom-v3-exp-hierarchical\", \"train/MAE_exit_states\")\n",
    "get_and_save_column(api, \"NRoom-v3-log-hierarchical\", \"train/MAE_exit_states\")"
   ]
  },
  {
   "cell_type": "markdown",
   "id": "4da8094d-5566-4f4d-83d0-23b70049f119",
   "metadata": {},
   "source": [
    "## Taxi-v1"
   ]
  },
  {
   "cell_type": "code",
   "execution_count": 7,
   "id": "bdd07daa-bb6c-46ed-860d-6012b555498b",
   "metadata": {},
   "outputs": [],
   "source": [
    "get_and_save_column(api, \"Taxi-v1-exp-flat\", \"train/MAE_z\")\n",
    "get_and_save_column(api, \"Taxi-v1-exp-td-flat\", \"train/MAE_z\")\n",
    "get_and_save_column(api, \"Taxi-v1-log-flat\", \"train/MAE_z\")\n",
    "get_and_save_column(api, \"Taxi-v1-exp-hierarchical\", \"train/MAE_exit_states\")\n",
    "get_and_save_column(api, \"Taxi-v1-log-hierarchical\", \"train/MAE_exit_states\")"
   ]
  },
  {
   "cell_type": "markdown",
   "id": "7033c09e-b018-47ba-b095-ba2fe16ffd65",
   "metadata": {},
   "source": [
    "## Taxi-v2"
   ]
  },
  {
   "cell_type": "code",
   "execution_count": 8,
   "id": "8b103ecd-ed22-4935-80d3-6da34e4c5841",
   "metadata": {},
   "outputs": [],
   "source": [
    "get_and_save_column(api, \"Taxi-v2-exp-flat\", \"train/MAE_z\")\n",
    "get_and_save_column(api, \"Taxi-v2-exp-td-flat\", \"train/MAE_z\")\n",
    "get_and_save_column(api, \"Taxi-v2-log-flat\", \"train/MAE_z\")\n",
    "get_and_save_column(api, \"Taxi-v2-exp-hierarchical\", \"train/MAE_exit_states\")\n",
    "get_and_save_column(api, \"Taxi-v2-log-hierarchical\", \"train/MAE_exit_states\")"
   ]
  },
  {
   "cell_type": "code",
   "execution_count": null,
   "id": "4815ebfb-228e-4327-ab3a-be22cb9434fe",
   "metadata": {},
   "outputs": [],
   "source": []
  }
 ],
 "metadata": {
  "kernelspec": {
   "display_name": "Python 3 (ipykernel)",
   "language": "python",
   "name": "python3"
  },
  "language_info": {
   "codemirror_mode": {
    "name": "ipython",
    "version": 3
   },
   "file_extension": ".py",
   "mimetype": "text/x-python",
   "name": "python",
   "nbconvert_exporter": "python",
   "pygments_lexer": "ipython3",
   "version": "3.8.1"
  }
 },
 "nbformat": 4,
 "nbformat_minor": 5
}
